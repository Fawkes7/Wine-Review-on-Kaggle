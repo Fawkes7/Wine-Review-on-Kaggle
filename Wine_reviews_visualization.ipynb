{
 "cells": [
  {
   "cell_type": "code",
   "execution_count": null,
   "metadata": {
    "executionInfo": {
     "elapsed": 1728,
     "status": "ok",
     "timestamp": 1606151236401,
     "user": {
      "displayName": "Khalid Waleed",
      "photoUrl": "https://lh3.googleusercontent.com/a-/AOh14GjwmcyXxm378GNr37Kar4YtmpcHsHkdSMoPLl74U8E=s64",
      "userId": "11184101029292693946"
     },
     "user_tz": -300
    },
    "id": "Cfy9DBHtqZJ3"
   },
   "outputs": [],
   "source": [
    "import pandas as pd\n",
    "import numpy as np"
   ]
  },
  {
   "cell_type": "code",
   "execution_count": null,
   "metadata": {
    "executionInfo": {
     "elapsed": 2224,
     "status": "ok",
     "timestamp": 1606151239607,
     "user": {
      "displayName": "Khalid Waleed",
      "photoUrl": "https://lh3.googleusercontent.com/a-/AOh14GjwmcyXxm378GNr37Kar4YtmpcHsHkdSMoPLl74U8E=s64",
      "userId": "11184101029292693946"
     },
     "user_tz": -300
    },
    "id": "YGZdT7ujqZJ3"
   },
   "outputs": [],
   "source": [
    "from highcharts import Highchart\n",
    "import wordcloud as wc\n",
    "#import pygal as pg\n",
    "#import altair as aa\n",
    "import plotly as pl\n",
    "#import bokeh as bk\n",
    "#import gleam as gm\n",
    "#import ggplot as gp\n",
    "import seaborn as sns\n",
    "import matplotlib.pyplot as plt"
   ]
  },
  {
   "cell_type": "code",
   "execution_count": null,
   "metadata": {},
   "outputs": [],
   "source": [
    "import seaborn as sns\n",
    "import matplotlib.pyplot as plt"
   ]
  },
  {
   "cell_type": "code",
   "execution_count": null,
   "metadata": {
    "id": "L9dx7ormPl7Z"
   },
   "outputs": [],
   "source": [
    "########## This code ensures that plotly plots are renderred in jupyter notebook ####\n",
    "# This is also called as offline mode or something  #\n",
    "\n",
    "# Import the necessaries libraries\n",
    "import plotly.offline as pyo\n",
    "import plotly.graph_objs as go\n",
    "from plotly.offline import init_notebook_mode, iplot\n",
    "# Set notebook mode to work in offline\n",
    "pyo.init_notebook_mode()"
   ]
  },
  {
   "cell_type": "code",
   "execution_count": null,
   "metadata": {
    "executionInfo": {
     "elapsed": 2385,
     "status": "ok",
     "timestamp": 1606151242611,
     "user": {
      "displayName": "Khalid Waleed",
      "photoUrl": "https://lh3.googleusercontent.com/a-/AOh14GjwmcyXxm378GNr37Kar4YtmpcHsHkdSMoPLl74U8E=s64",
      "userId": "11184101029292693946"
     },
     "user_tz": -300
    },
    "id": "F-dTILc3qZJ3"
   },
   "outputs": [],
   "source": [
    "# import matplotlib as mpl\n",
    "# mpl.rcParams['figure.dpi'] = 500\n",
    "%config InlineBackend.figure_format = 'svg'"
   ]
  },
  {
   "cell_type": "code",
   "execution_count": null,
   "metadata": {
    "colab": {
     "base_uri": "https://localhost:8080/"
    },
    "executionInfo": {
     "elapsed": 1984,
     "status": "ok",
     "timestamp": 1606151243654,
     "user": {
      "displayName": "Khalid Waleed",
      "photoUrl": "https://lh3.googleusercontent.com/a-/AOh14GjwmcyXxm378GNr37Kar4YtmpcHsHkdSMoPLl74U8E=s64",
      "userId": "11184101029292693946"
     },
     "user_tz": -300
    },
    "id": "yQ7F69CBqZJ3",
    "outputId": "1c5778c2-0579-4f94-a167-79fc7e9b3e42"
   },
   "outputs": [],
   "source": [
    "df = pd.read_csv('./winemag-data-130k-v2.csv', index_col=0)\n",
    "df.drop_duplicates(('description', 'title'), inplace=True)\n",
    "df[pd.notnull(df.price)]\n",
    "total = df.isnull().sum().sort_values(ascending = False)\n",
    "percent = (df.isnull().sum()/df.isnull().count()*100).sort_values(ascending = False)\n",
    "missing_data  = pd.concat([total, percent], axis=1, keys=['Total', 'Percent'])\n",
    "\n",
    "# Imputing missing values\n",
    "for col in ('region_2', 'designation', 'taster_twitter_handle', 'taster_name', 'region_1'):\n",
    "    df[col]=df[col].fillna('Unknown')\n",
    "df['province'] = df['province'].fillna(df['province'].mode())\n",
    "df['price'] = df['price'].fillna(df['price'].mean())"
   ]
  },
  {
   "cell_type": "code",
   "execution_count": null,
   "metadata": {
    "colab": {
     "base_uri": "https://localhost:8080/",
     "height": 380
    },
    "executionInfo": {
     "elapsed": 1120,
     "status": "ok",
     "timestamp": 1606151245900,
     "user": {
      "displayName": "Khalid Waleed",
      "photoUrl": "https://lh3.googleusercontent.com/a-/AOh14GjwmcyXxm378GNr37Kar4YtmpcHsHkdSMoPLl74U8E=s64",
      "userId": "11184101029292693946"
     },
     "user_tz": -300
    },
    "id": "fAly6tAlrwUy",
    "outputId": "359ab54e-4048-4f45-8b9a-081b199889fe"
   },
   "outputs": [],
   "source": [
    "data=df.copy()"
   ]
  },
  {
   "cell_type": "code",
   "execution_count": null,
   "metadata": {
    "colab": {
     "base_uri": "https://localhost:8080/"
    },
    "executionInfo": {
     "elapsed": 1612,
     "status": "ok",
     "timestamp": 1606151250397,
     "user": {
      "displayName": "Khalid Waleed",
      "photoUrl": "https://lh3.googleusercontent.com/a-/AOh14GjwmcyXxm378GNr37Kar4YtmpcHsHkdSMoPLl74U8E=s64",
      "userId": "11184101029292693946"
     },
     "user_tz": -300
    },
    "id": "BAWpDsT0qZJ5",
    "jupyter": {
     "outputs_hidden": true
    },
    "outputId": "97ff272a-9671-4999-f3de-762707d59ac8"
   },
   "outputs": [],
   "source": [
    "data.info()"
   ]
  },
  {
   "cell_type": "code",
   "execution_count": null,
   "metadata": {
    "colab": {
     "base_uri": "https://localhost:8080/",
     "height": 286
    },
    "executionInfo": {
     "elapsed": 991,
     "status": "ok",
     "timestamp": 1606151257598,
     "user": {
      "displayName": "Khalid Waleed",
      "photoUrl": "https://lh3.googleusercontent.com/a-/AOh14GjwmcyXxm378GNr37Kar4YtmpcHsHkdSMoPLl74U8E=s64",
      "userId": "11184101029292693946"
     },
     "user_tz": -300
    },
    "id": "u7duuGK1qZJ5",
    "outputId": "7e48a9bf-48fa-44f9-b6a9-6e98fc892fe9"
   },
   "outputs": [],
   "source": [
    "data.describe()"
   ]
  },
  {
   "cell_type": "markdown",
   "metadata": {},
   "source": [
    "# No. of Wine Tasted According to Country"
   ]
  },
  {
   "cell_type": "code",
   "execution_count": null,
   "metadata": {
    "scrolled": false
   },
   "outputs": [],
   "source": [
    "df=data.copy()\n",
    "plt.figure(figsize=(10,5))\n",
    "sns.set(style=\"darkgrid\")\n",
    "s=sns.barplot(x=df.country.value_counts()[:15].index, y=df.country.value_counts()[:15].values)\n",
    "plt.xlabel(\"Countries\")\n",
    "plt.ylabel(\"Number of Wine Samples\")\n",
    "plt.title('No. of Samples per Country - Top 15')\n",
    "s.set_xticklabels(s.get_xticklabels(),rotation=45)\n",
    "plt.show()"
   ]
  },
  {
   "cell_type": "code",
   "execution_count": null,
   "metadata": {
    "colab": {
     "base_uri": "https://localhost:8080/",
     "height": 542,
     "output_embedded_package_id": "1_3qGetScEp4PgpPr5QZrgkRkiIvn3tsO"
    },
    "executionInfo": {
     "elapsed": 6387,
     "status": "ok",
     "timestamp": 1606151271400,
     "user": {
      "displayName": "Khalid Waleed",
      "photoUrl": "https://lh3.googleusercontent.com/a-/AOh14GjwmcyXxm378GNr37Kar4YtmpcHsHkdSMoPLl74U8E=s64",
      "userId": "11184101029292693946"
     },
     "user_tz": -300
    },
    "id": "A-ErBzrBskKz",
    "outputId": "105703d5-6df3-4f79-a57e-408ae51c5cb4"
   },
   "outputs": [],
   "source": [
    "##### Histogram and boxplot for points column ########\n",
    "import plotly.express as px\n",
    "df = data['points']\n",
    "fig = px.histogram(df, x=\"points\", y=\"points\", nbins=50,\n",
    "                   marginal=\"box\", # box or violin, rug\n",
    "                   hover_data=['points'],histnorm='probability density')\n",
    "fig.show()"
   ]
  },
  {
   "cell_type": "code",
   "execution_count": null,
   "metadata": {
    "colab": {
     "base_uri": "https://localhost:8080/",
     "height": 542,
     "output_embedded_package_id": "1BH7ZW6-5CW5usZ87j8EcrO7Wj2ZR7Dlj"
    },
    "executionInfo": {
     "elapsed": 46118,
     "status": "ok",
     "timestamp": 1606151317831,
     "user": {
      "displayName": "Khalid Waleed",
      "photoUrl": "https://lh3.googleusercontent.com/a-/AOh14GjwmcyXxm378GNr37Kar4YtmpcHsHkdSMoPLl74U8E=s64",
      "userId": "11184101029292693946"
     },
     "user_tz": -300
    },
    "id": "ifHFZFrbqZJ9",
    "outputId": "2bac9ea7-97ab-4d86-c8a8-ed3517b1c3d3"
   },
   "outputs": [],
   "source": [
    "####### Histogram and boxplot for prices column ########\n",
    "import plotly.express as px\n",
    "df = data['price']\n",
    "fig = px.histogram(df, x=\"price\", y=\"price\", nbins=100,\n",
    "                   marginal=\"box\", # box or violin, rug\n",
    "                   hover_data=['price'],histnorm='probability density')\n",
    "fig.show()"
   ]
  },
  {
   "cell_type": "code",
   "execution_count": null,
   "metadata": {
    "colab": {
     "base_uri": "https://localhost:8080/",
     "height": 542
    },
    "executionInfo": {
     "elapsed": 32656,
     "status": "ok",
     "timestamp": 1606151318562,
     "user": {
      "displayName": "Khalid Waleed",
      "photoUrl": "https://lh3.googleusercontent.com/a-/AOh14GjwmcyXxm378GNr37Kar4YtmpcHsHkdSMoPLl74U8E=s64",
      "userId": "11184101029292693946"
     },
     "user_tz": -300
    },
    "id": "kTdcCZmWqZJ9",
    "outputId": "9e90ddd9-140e-4e28-b561-5a6137de4864",
    "scrolled": false
   },
   "outputs": [],
   "source": [
    "###### mean prices across countries ########\n",
    "import plotly.express as px\n",
    "\n",
    "df = data.groupby(['country']).mean().reset_index()\n",
    "fig = px.choropleth(df, locations=\"country\", locationmode='country names', \n",
    "                    color=\"price\", # lifeExp is a column of gapminder\n",
    "                    hover_name=\"price\", # column to add to hover information\n",
    "                    color_continuous_scale=px.colors.sequential.Plasma)\n",
    "fig.show()"
   ]
  },
  {
   "cell_type": "code",
   "execution_count": null,
   "metadata": {
    "colab": {
     "base_uri": "https://localhost:8080/",
     "height": 542
    },
    "executionInfo": {
     "elapsed": 30000,
     "status": "ok",
     "timestamp": 1606151318564,
     "user": {
      "displayName": "Khalid Waleed",
      "photoUrl": "https://lh3.googleusercontent.com/a-/AOh14GjwmcyXxm378GNr37Kar4YtmpcHsHkdSMoPLl74U8E=s64",
      "userId": "11184101029292693946"
     },
     "user_tz": -300
    },
    "id": "54EkTRpYzyTP",
    "outputId": "c72f6c03-e029-4688-fa03-b61cd13ea1f4",
    "scrolled": false
   },
   "outputs": [],
   "source": [
    "############ mean points across countries ############\n",
    "import plotly.express as px\n",
    "\n",
    "df = data.groupby(['country']).mean().reset_index()\n",
    "fig = px.choropleth(df, locations=\"country\", locationmode='country names', \n",
    "                    color=\"points\", # lifeExp is a column of gapminder\n",
    "                    hover_name=\"points\", # column to add to hover information\n",
    "                    color_continuous_scale=px.colors.sequential.Plasma)\n",
    "fig.show()"
   ]
  },
  {
   "cell_type": "code",
   "execution_count": null,
   "metadata": {},
   "outputs": [],
   "source": [
    "df.isnull().sum()"
   ]
  },
  {
   "cell_type": "code",
   "execution_count": null,
   "metadata": {
    "executionInfo": {
     "elapsed": 1123,
     "status": "ok",
     "timestamp": 1606151595654,
     "user": {
      "displayName": "Khalid Waleed",
      "photoUrl": "https://lh3.googleusercontent.com/a-/AOh14GjwmcyXxm378GNr37Kar4YtmpcHsHkdSMoPLl74U8E=s64",
      "userId": "11184101029292693946"
     },
     "user_tz": -300
    },
    "id": "K52oi4ibF1Yj"
   },
   "outputs": [],
   "source": [
    "##### fill country column with the value 'NaN' #####\n",
    "df = data.copy()\n",
    "df['country']=df['country'].fillna(value=0)"
   ]
  },
  {
   "cell_type": "code",
   "execution_count": null,
   "metadata": {},
   "outputs": [],
   "source": [
    "df = data\n",
    "fig = px.treemap(df, path=['country', 'variety'], values='price')\n",
    "fig.show()"
   ]
  },
  {
   "cell_type": "code",
   "execution_count": null,
   "metadata": {
    "colab": {
     "base_uri": "https://localhost:8080/"
    },
    "executionInfo": {
     "elapsed": 976,
     "status": "ok",
     "timestamp": 1606151606975,
     "user": {
      "displayName": "Khalid Waleed",
      "photoUrl": "https://lh3.googleusercontent.com/a-/AOh14GjwmcyXxm378GNr37Kar4YtmpcHsHkdSMoPLl74U8E=s64",
      "userId": "11184101029292693946"
     },
     "user_tz": -300
    },
    "id": "Jmxnx3egGGH0",
    "outputId": "46847dc4-36ce-4439-c5cc-47840ff3afc5",
    "scrolled": true
   },
   "outputs": [],
   "source": [
    "# idx1=df[['variety','country','price']].copy()\n",
    "# idx1"
   ]
  },
  {
   "cell_type": "code",
   "execution_count": null,
   "metadata": {
    "colab": {
     "base_uri": "https://localhost:8080/",
     "height": 542
    },
    "executionInfo": {
     "elapsed": 3411,
     "status": "ok",
     "timestamp": 1606151614495,
     "user": {
      "displayName": "Khalid Waleed",
      "photoUrl": "https://lh3.googleusercontent.com/a-/AOh14GjwmcyXxm378GNr37Kar4YtmpcHsHkdSMoPLl74U8E=s64",
      "userId": "11184101029292693946"
     },
     "user_tz": -300
    },
    "id": "MnfokIx6B7t7",
    "outputId": "ede228ac-5e4a-4d48-8f56-b98062ff1c97"
   },
   "outputs": [],
   "source": [
    "#### tree map for different varieties across different countries #####\n",
    "# import plotly.express as px\n",
    "\n",
    "# idx1=idx1.groupby([\"country\",\"variety\"])\n",
    "# idx1.head()\n",
    "\n"
   ]
  },
  {
   "cell_type": "code",
   "execution_count": null,
   "metadata": {},
   "outputs": [],
   "source": [
    "# maximums=idx1.max()\n",
    "# maximums=maximums.reset_index()\n",
    "# # ig = px.treemap(maximums, path=['country','variety'], values='price',title='Most Expensive Wines per Country')\n",
    "# # fig.show()\n",
    "# maximums\n"
   ]
  },
  {
   "cell_type": "code",
   "execution_count": null,
   "metadata": {
    "executionInfo": {
     "elapsed": 899,
     "status": "ok",
     "timestamp": 1606152262751,
     "user": {
      "displayName": "Khalid Waleed",
      "photoUrl": "https://lh3.googleusercontent.com/a-/AOh14GjwmcyXxm378GNr37Kar4YtmpcHsHkdSMoPLl74U8E=s64",
      "userId": "11184101029292693946"
     },
     "user_tz": -300
    },
    "id": "kvEMKwWOH-8B"
   },
   "outputs": [],
   "source": [
    "from wordcloud import WordCloud, STOPWORDS"
   ]
  },
  {
   "cell_type": "code",
   "execution_count": null,
   "metadata": {
    "colab": {
     "base_uri": "https://localhost:8080/",
     "height": 808
    },
    "executionInfo": {
     "elapsed": 23481,
     "status": "ok",
     "timestamp": 1606152414618,
     "user": {
      "displayName": "Khalid Waleed",
      "photoUrl": "https://lh3.googleusercontent.com/a-/AOh14GjwmcyXxm378GNr37Kar4YtmpcHsHkdSMoPLl74U8E=s64",
      "userId": "11184101029292693946"
     },
     "user_tz": -300
    },
    "id": "U1Tjd_mZIpCt",
    "outputId": "17a02cb5-b965-4b38-d8fa-f6c2b3161637"
   },
   "outputs": [],
   "source": [
    "comment_words = '' \n",
    "stopwords = set(STOPWORDS)\n",
    "# iterate through the csv file \n",
    "for val in data.description: \n",
    "      \n",
    "    # typecaste each val to string \n",
    "    val = str(val) \n",
    "  \n",
    "    # split the value \n",
    "    tokens = val.split() \n",
    "      \n",
    "    # Converts each token into lowercase \n",
    "    for i in range(len(tokens)): \n",
    "        tokens[i] = tokens[i].lower() \n",
    "      \n",
    "    comment_words += \" \".join(tokens)+\" \"\n",
    "  \n",
    "wordcloud = WordCloud(width = 800, height = 800, \n",
    "                background_color ='white', \n",
    "                stopwords = stopwords, \n",
    "                min_font_size = 10).generate(comment_words) \n",
    "  \n",
    "# plot the WordCloud image                        \n",
    "plt.figure(figsize = (8, 8), facecolor = None) \n",
    "plt.imshow(wordcloud) \n",
    "plt.axis(\"off\") \n",
    "plt.tight_layout(pad = 0) \n",
    "  \n",
    "plt.show()"
   ]
  },
  {
   "cell_type": "markdown",
   "metadata": {
    "id": "9nYIbW7lLhCl"
   },
   "source": [
    "# Points vs Price Correlations"
   ]
  },
  {
   "cell_type": "code",
   "execution_count": null,
   "metadata": {},
   "outputs": [],
   "source": [
    "from scipy.stats import spearmanr\n",
    "from scipy.stats import chi2_contingency"
   ]
  },
  {
   "cell_type": "code",
   "execution_count": null,
   "metadata": {},
   "outputs": [],
   "source": [
    "df=data.copy()\n",
    "df=df[['points','price']]\n",
    "df"
   ]
  },
  {
   "cell_type": "code",
   "execution_count": null,
   "metadata": {},
   "outputs": [],
   "source": [
    "#spearman's rank correlation\n",
    "correlation,pval=spearmanr(df)"
   ]
  },
  {
   "cell_type": "code",
   "execution_count": null,
   "metadata": {},
   "outputs": [],
   "source": [
    "print(f'correlation={correlation:.6f}, p-value={pval:.6f}')"
   ]
  },
  {
   "cell_type": "markdown",
   "metadata": {},
   "source": [
    "NULL hypothesis, no correlation between price and value\n",
    "A p-value less than 0.05 (typically ≤ 0.05) is statistically significant. It indicates strong evidence against the null hypothesis, as there is less than a 5% probability the null is correct (and the results are random). Therefore, we reject the null hypothesis, and accept the alternative hypothesis.\n",
    "However, this does not mean that there is a 95% probability that the research hypothesis is true. The p-value is conditional upon the null hypothesis being true is unrelated to the truth or falsity of the research hypothesis.\n",
    "\n"
   ]
  },
  {
   "cell_type": "code",
   "execution_count": null,
   "metadata": {},
   "outputs": [],
   "source": [
    "df.corr(method='spearman')"
   ]
  },
  {
   "cell_type": "code",
   "execution_count": null,
   "metadata": {},
   "outputs": [],
   "source": [
    "sns.pairplot(df)"
   ]
  },
  {
   "cell_type": "code",
   "execution_count": null,
   "metadata": {},
   "outputs": [],
   "source": [
    "fig = px.scatter_matrix(df)\n",
    "fig.show()"
   ]
  },
  {
   "cell_type": "code",
   "execution_count": null,
   "metadata": {},
   "outputs": [],
   "source": [
    "df=data.copy()\n",
    "df['price_log'] = np.log(df['price'])"
   ]
  },
  {
   "cell_type": "code",
   "execution_count": null,
   "metadata": {
    "id": "k0hqHaRvLgn4"
   },
   "outputs": [],
   "source": [
    "fig=px.scatter(x=df['price'],y=df['points'],labels={'x':'Price','y':'Points'})\n",
    "fig.show()"
   ]
  },
  {
   "cell_type": "markdown",
   "metadata": {
    "id": "o_K4g_ShqZJ9"
   },
   "source": [
    "# Country Graphs"
   ]
  },
  {
   "cell_type": "markdown",
   "metadata": {},
   "source": [
    "95-100 Classic: a great wine \n",
    "\n",
    "90-94 Outstanding: a wine of superior character and style\n",
    "\n",
    "85-89 Very good: a wine with special qualities\n",
    "\n",
    "80-84 Good: a solid, well-made wine\n",
    "\n",
    "75-79 Mediocre: a drinkable wine that may have minor flaws\n",
    "\n",
    "50-74 Not recommended"
   ]
  },
  {
   "cell_type": "code",
   "execution_count": null,
   "metadata": {},
   "outputs": [],
   "source": [
    "# ###Data Processing for the bar graphh###\n",
    "# idx=data.loc[data['points']>=95]\n",
    "# idx1=idx.groupby('country').count().reset_index()\n",
    "# idx1=idx1.sort_values(by=['points'],ascending=True)\n",
    "# mapping_colors=name_to_color(idx1.country,0,0,0,0,0,230)\n",
    "# idx1['Color']=idx1['country'].map(mapping_colors)\n",
    "# idx1['norm_points']=(idx1['points']/idx1['points'].sum()*100).map('{:,.2f}'.format).astype(str)\n",
    "\n",
    "# layout = dict(yaxis={'title':'Country'},\n",
    "#              xaxis={'title':'Count of Points'},\n",
    "#              title='Countries with Highest Rated Wines (95-100)')\n",
    "\n",
    "# #####Plotting#####\n",
    "# fig=go.Figure(go.Bar(x=idx1['points'],y=idx1['country'],marker_color=idx1['Color'], text=idx1['norm_points']+'%',textposition='auto',orientation='h'),layout=layout)\n",
    "# fig.show()\n"
   ]
  },
  {
   "cell_type": "code",
   "execution_count": null,
   "metadata": {},
   "outputs": [],
   "source": [
    "# idx=data.loc[data['price']<50]\n",
    "# idx1=idx.groupby('country').count().reset_index()\n",
    "# idx1"
   ]
  },
  {
   "cell_type": "code",
   "execution_count": null,
   "metadata": {},
   "outputs": [],
   "source": [
    "top_5_countries_prw = data.groupby('country').mean().sort_values(by = ['price'],ascending = False)\n",
    "top_5_countries_prw = pd.DataFrame(top_5_countries_prw.iloc[0:5,1])\n",
    "top_5_countries_prw['Index'] = list(range(5))\n",
    "top_5_countries_prw['Country'] = top_5_countries_prw.index.values\n",
    "top_5_countries_prw.set_index(['Index'],inplace = True)\n",
    "top_5_countries_prw"
   ]
  },
  {
   "cell_type": "markdown",
   "metadata": {},
   "source": [
    "### Highest Rated Wines Country-Wise"
   ]
  },
  {
   "cell_type": "code",
   "execution_count": null,
   "metadata": {},
   "outputs": [],
   "source": [
    "layout = dict(yaxis={'title':'Country'},\n",
    "             xaxis={'title':'Count of Wine'},\n",
    "             title='Countries with Highest Rated Wines (95-100)')\n",
    "df=data.copy()\n",
    "idx=df.loc[df['points']>=95]\n",
    "idx=idx.sort_values(by=['points'],ascending=False)\n",
    "fig=go.Figure(go.Bar(x=idx.country.value_counts().values[:15],y=idx.country.value_counts().index[:15],orientation='h')\n",
    "              ,layout=layout)\n",
    "fig.show()\n",
    "\n"
   ]
  },
  {
   "cell_type": "markdown",
   "metadata": {},
   "source": [
    "### Highest Priced Wines Country-wise"
   ]
  },
  {
   "cell_type": "code",
   "execution_count": null,
   "metadata": {},
   "outputs": [],
   "source": [
    "layout = dict(yaxis={'title':'Country'},\n",
    "             xaxis={'title':'Count of Wine'},\n",
    "             title='Countries with Highest Priced Wines >500 USD)')\n",
    "df=data.copy()\n",
    "idx1=df.loc[df['price']>500]\n",
    "idx1=idx1.sort_values(by=['price'],ascending=False)\n",
    "fig=go.Figure(go.Bar(x=idx1.country.value_counts().values[:15],y=idx1.country.value_counts().index[:15],orientation='h')\n",
    "              ,layout=layout)\n",
    "fig.show()\n",
    "\n"
   ]
  },
  {
   "cell_type": "markdown",
   "metadata": {},
   "source": [
    "### Countries that make affordable wines and highly rated"
   ]
  },
  {
   "cell_type": "code",
   "execution_count": null,
   "metadata": {},
   "outputs": [],
   "source": [
    "df=data.copy()\n",
    "idx5=df.loc[(df['points']>=95) & (df['price']<50)]\n",
    "\n",
    "\n",
    "layout = dict(yaxis={'title':'Country'},\n",
    "             xaxis={'title':'Count of Wine'},\n",
    "             title='Countries with Affordable and Highly Rated Wines')\n",
    "\n",
    "\n",
    "\n",
    "fig=go.Figure(go.Bar(x=idx5.country.value_counts().values[:15],y=idx5.country.value_counts().index[:15],orientation='h')\n",
    "              ,layout=layout)\n",
    "fig.show()\n",
    "\n"
   ]
  },
  {
   "cell_type": "markdown",
   "metadata": {},
   "source": [
    "# Countries that make costly wines and highly rate"
   ]
  },
  {
   "cell_type": "code",
   "execution_count": null,
   "metadata": {},
   "outputs": [],
   "source": [
    "df=data.copy()\n",
    "idx6=df.loc[(df['price']>500)& (df['points']>=95)]\n",
    "\n",
    "layout = dict(yaxis={'title':'Country'},\n",
    "             xaxis={'title':'Count of Wine'},\n",
    "             title='Countries with Expensive and Highly Rated Wines')\n",
    "\n",
    "\n",
    "\n",
    "fig=go.Figure(go.Bar(x=idx6.country.value_counts().values[:15],y=idx6.country.value_counts().index[:15],orientation='h')\n",
    "              ,layout=layout)\n",
    "fig.show()\n",
    "\n"
   ]
  },
  {
   "cell_type": "markdown",
   "metadata": {},
   "source": [
    "# Wine Variety Analysis"
   ]
  },
  {
   "cell_type": "markdown",
   "metadata": {},
   "source": [
    "### Grapes that produced Highest Rated Wines on Average\n"
   ]
  },
  {
   "cell_type": "code",
   "execution_count": null,
   "metadata": {},
   "outputs": [],
   "source": [
    "df=data.copy()\n",
    "\n",
    "df=df[(df['points']>=95)]\n",
    "df=df.sort_values(by='points',ascending=False)"
   ]
  },
  {
   "cell_type": "code",
   "execution_count": null,
   "metadata": {},
   "outputs": [],
   "source": [
    "sns.set(rc={'figure.figsize':(11.7,7)})\n",
    "ax=sns.barplot(x=df.variety.value_counts().index[:15],y=df.variety.value_counts().values[:15],data=df,palette=\"rocket\")\n",
    "plt.title('Grapes Producing Highest Rated Wines')\n",
    "plt.xlabel('Grapes')\n",
    "plt.ylabel('Count')\n",
    "for item in ax.get_xticklabels():\n",
    "    item.set_rotation(90)"
   ]
  },
  {
   "cell_type": "markdown",
   "metadata": {},
   "source": [
    "### Grapes that produced the Most Expensive Wines (>500 USD)\n"
   ]
  },
  {
   "cell_type": "code",
   "execution_count": null,
   "metadata": {},
   "outputs": [],
   "source": [
    "df2=data.copy()\n",
    "\n",
    "df=df2[(df2['price']>500)]"
   ]
  },
  {
   "cell_type": "code",
   "execution_count": null,
   "metadata": {},
   "outputs": [],
   "source": [
    "from numpy import median\n",
    "sns.set(rc={'figure.figsize':(11.7,7)})\n",
    "ax=sns.barplot(x=df.variety.value_counts().index[:15],y=df.variety.value_counts().values[:15],data=df,palette=\"turbo\")\n",
    "plt.title('Grapes Producing the Most Expensive Wines')\n",
    "plt.xlabel(\"Grape\")\n",
    "plt.ylabel(\"Count\")\n",
    "for item in ax.get_xticklabels():\n",
    "    item.set_rotation(90)"
   ]
  },
  {
   "cell_type": "markdown",
   "metadata": {},
   "source": [
    "# Grapes that produce the Highest Rated and Expensive Wines\n"
   ]
  },
  {
   "cell_type": "code",
   "execution_count": null,
   "metadata": {
    "scrolled": true
   },
   "outputs": [],
   "source": [
    "df3=data.copy()\n",
    "df3=df3.loc[(df3['price']>500) & (df3['points']>=95)]"
   ]
  },
  {
   "cell_type": "code",
   "execution_count": null,
   "metadata": {},
   "outputs": [],
   "source": [
    "sns.set(rc={'figure.figsize':(10,7)})\n",
    "ax=sns.barplot(x=df3.variety.value_counts().index[:15],y=df3.variety.value_counts().values[:15],data=df3,palette=\"turbo\")\n",
    "plt.xlabel('Grape Variety')\n",
    "plt.ylabel('Count of Wine')\n",
    "plt.title('Grapes Producing High Rated and Expensive Wines')\n",
    "for item in ax.get_xticklabels():\n",
    "    item.set_rotation(90)\n",
    "    \n"
   ]
  },
  {
   "cell_type": "markdown",
   "metadata": {},
   "source": [
    "# Grapes that produce the Highest Rated and Affordable Wines\n"
   ]
  },
  {
   "cell_type": "code",
   "execution_count": null,
   "metadata": {},
   "outputs": [],
   "source": [
    "df3=data.copy()\n",
    "df3=df3.loc[(df3['price']<50) & (df3['points']>=95)]"
   ]
  },
  {
   "cell_type": "code",
   "execution_count": null,
   "metadata": {},
   "outputs": [],
   "source": [
    "sns.set(rc={'figure.figsize':(10,7)})\n",
    "ax=sns.barplot(x=df3.variety.value_counts().index[:15],y=df3.variety.value_counts().values[:15],data=df3,palette=\"Blues_r\")\n",
    "plt.xlabel('Grape Variety')\n",
    "plt.ylabel('Count of Wine')\n",
    "plt.title('Grapes Producing High Rated and Affordable Wines')\n",
    "for item in ax.get_xticklabels():\n",
    "    item.set_rotation(90)\n",
    "    \n"
   ]
  },
  {
   "cell_type": "markdown",
   "metadata": {},
   "source": [
    "# Variety of Grapes\n"
   ]
  },
  {
   "cell_type": "code",
   "execution_count": null,
   "metadata": {},
   "outputs": [],
   "source": [
    "####Which grape variety had the most number of samples in the dataset####\n",
    "df=data.copy()\n",
    "fig = go.Figure(data=[go.Pie(labels=df['variety'].value_counts().index[:15], \n",
    "                             values=df['variety'].value_counts().values[:15],hole=.3,name=\"Grapes\")])\n",
    "\n",
    "fig.update_layout(\n",
    "    title_text=\"Variety of Grapes in Dataset - Top 15\",\n",
    "    # Add annotations in the center of the donut pies.\n",
    "    annotations=[dict(text='Grapes' ,font_size=20, showarrow=False)])\n",
    "fig.show()"
   ]
  },
  {
   "cell_type": "markdown",
   "metadata": {},
   "source": [
    "# Vineyards that  Produce Highest Rated and Expensive Wines"
   ]
  },
  {
   "cell_type": "code",
   "execution_count": null,
   "metadata": {},
   "outputs": [],
   "source": [
    "df=data.copy()\n",
    "df=df.loc[(df['price']>500) & (df['points']>=95)]"
   ]
  },
  {
   "cell_type": "code",
   "execution_count": null,
   "metadata": {},
   "outputs": [],
   "source": [
    "fig = go.Figure(data=[go.Pie(labels=df['winery'].value_counts().index[:15], \n",
    "                             values=df['winery'].value_counts().values[:15],hole=.3,name=\"Grapes\")])\n",
    "\n",
    "fig.update_layout(\n",
    "    title_text=\"Vinyards that Produce the Highest Rated and Most Expensive Wines - Top 15\",\n",
    "    # Add annotations in the center of the donut pies.\n",
    "    annotations=[dict(text='Vinyards' ,font_size=20, showarrow=False)])\n",
    "fig.show()"
   ]
  },
  {
   "cell_type": "markdown",
   "metadata": {},
   "source": [
    "# Price Distribution of Highly Rated Wines"
   ]
  },
  {
   "cell_type": "code",
   "execution_count": null,
   "metadata": {},
   "outputs": [],
   "source": [
    "df=data.copy()\n",
    "df['price_log'] = np.log(df['price'])"
   ]
  },
  {
   "cell_type": "code",
   "execution_count": null,
   "metadata": {},
   "outputs": [],
   "source": [
    "df1=df.loc[(df['points']>=95)]\n",
    "df1=df1.sort_values(by='price',ascending=False)\n",
    "var=df1['variety'].value_counts()[:15]\n",
    "# var\n",
    "# pd.set_option(\"display.max_rows\", None, \"display.max_columns\", None)\n",
    "# df1\n"
   ]
  },
  {
   "cell_type": "code",
   "execution_count": null,
   "metadata": {
    "scrolled": false
   },
   "outputs": [],
   "source": [
    "g = sns.boxplot(x='variety', y='price',\n",
    "                  data=df1[df1.variety.isin(var.index.values)],\n",
    "                 color='darkgreen')\n",
    "g.set_title(\"Price Distribution of Highly Rated Wines by Grape - Top 10\", fontsize=20)\n",
    "g.set_xlabel(\"Grapes \", fontsize=15)\n",
    "g.set_ylabel(\"Price Dist\", fontsize=15)\n",
    "g.set_xticklabels(g.get_xticklabels(),rotation=90)"
   ]
  },
  {
   "cell_type": "markdown",
   "metadata": {},
   "source": [
    "interesting to see that the 3300 red blend did not make it to the high rated wines.\n",
    "- Pinot noir in the intermediate category of the price distribution."
   ]
  },
  {
   "cell_type": "markdown",
   "metadata": {},
   "source": [
    "# Points Distribution of Highly Rated Wines\n"
   ]
  },
  {
   "cell_type": "code",
   "execution_count": null,
   "metadata": {},
   "outputs": [],
   "source": [
    "df=data.copy()\n",
    "\n",
    "df=df.loc[(df['variety']=='Bordeaux-style Red Blend') | (df['variety']=='Riesling') | \n",
    "          (df['variety']=='Champagne Blend') | (df['variety']=='Chardonnay') |\n",
    "          (df['variety']=='Cabernet Sauvignon') | (df['variety']=='Nebbiolo') |\n",
    "          (df['variety']=='Sangiovese') | (df['variety']=='Pinot Noir') |\n",
    "          (df['variety']=='Red Blend') | (df['variety']=='Syrah') \n",
    "         ]\n",
    "\n",
    "\n",
    "df2=df.sort_values(by='points',ascending=False)\n",
    "var=df2['variety'].value_counts()\n"
   ]
  },
  {
   "cell_type": "code",
   "execution_count": null,
   "metadata": {
    "scrolled": false
   },
   "outputs": [],
   "source": [
    "g = sns.boxplot(x='variety', y='points',\n",
    "                  data=df2[df2.variety.isin(var.index.values)],\n",
    "                 color='darkgreen')\n",
    "g.set_title(\"Points Distribution of Highly Rated Wines by Grape\", fontsize=20)\n",
    "g.set_xlabel(\"Grapes\", fontsize=15)\n",
    "g.set_ylabel(\"Points Dist\", fontsize=15)\n",
    "g.set_xticklabels(g.get_xticklabels(),rotation=90)"
   ]
  },
  {
   "cell_type": "markdown",
   "metadata": {},
   "source": [
    "Clearly shows that grapes aren't the only reason why a wine is performing better. It does to an extent, but we need more information to fill in the gap"
   ]
  },
  {
   "cell_type": "markdown",
   "metadata": {},
   "source": [
    "# No. of reviewers and their review count"
   ]
  },
  {
   "cell_type": "code",
   "execution_count": null,
   "metadata": {},
   "outputs": [],
   "source": [
    "df=data.copy()\n",
    "k=df.taster_name.unique()\n",
    "#df=df.loc[df['taster_name']!='Unknown']\n",
    "print('We have {} reviewers.'.format(k.shape[0]))\n",
    "k"
   ]
  },
  {
   "cell_type": "code",
   "execution_count": null,
   "metadata": {},
   "outputs": [],
   "source": [
    "#plotting their count \n",
    "ax=sns.barplot(x=df.taster_name.value_counts().index,y=df.taster_name.value_counts().values,data=df,palette=\"Blues_r\")\n",
    "plt.xlabel('Wines Taster Names')\n",
    "plt.ylabel('Review Count ')\n",
    "plt.title('Wine Tasters vs the review count')\n",
    "for item in ax.get_xticklabels():\n",
    "    item.set_rotation(90)"
   ]
  },
  {
   "cell_type": "markdown",
   "metadata": {},
   "source": [
    "### Score Distribution Among the reviewers"
   ]
  },
  {
   "cell_type": "code",
   "execution_count": null,
   "metadata": {},
   "outputs": [],
   "source": [
    "df=data.copy()\n",
    "#df1=df.loc[(df['points']>97)]\n",
    "df=df.sort_values(by='points',ascending=False)\n",
    "var=df['taster_name'].value_counts()\n"
   ]
  },
  {
   "cell_type": "code",
   "execution_count": null,
   "metadata": {},
   "outputs": [],
   "source": [
    "g = sns.boxplot(x='taster_name', y='points',\n",
    "                  data=df[df.taster_name.isin(var.index.values)],\n",
    "                 color='darkgreen')\n",
    "#g = sns.swarmplot(x=\"taster_name\", y=\"points\", data=df[df.taster_name.isin(var.index.values)], color=\".25\")\n",
    "g.set_title(\"Score Distribution of Wine Tasters\", fontsize=20)\n",
    "g.set_xlabel(\"Grapes \", fontsize=15)\n",
    "g.set_ylabel(\"Score Distribution\", fontsize=15)\n",
    "g.set_xticklabels(g.get_xticklabels(),rotation=90)"
   ]
  },
  {
   "cell_type": "markdown",
   "metadata": {},
   "source": [
    "### \n"
   ]
  },
  {
   "cell_type": "markdown",
   "metadata": {},
   "source": [
    "### Reviewers and their scores to our high rated wines\n",
    "We further wanted to explore what the top 3 and bottom 3 scored different wines"
   ]
  },
  {
   "cell_type": "code",
   "execution_count": null,
   "metadata": {},
   "outputs": [],
   "source": [
    "df1=df.loc[(df['points']>97)]\n",
    "df1=df1.sort_values(by='price',ascending=False)\n",
    "var=df1['variety'].value_counts()[:10]"
   ]
  }
 ],
 "metadata": {
  "colab": {
   "collapsed_sections": [],
   "name": "Wine_testing.ipynb",
   "provenance": []
  },
  "kernelspec": {
   "display_name": "Python 3",
   "language": "python",
   "name": "python3"
  },
  "language_info": {
   "codemirror_mode": {
    "name": "ipython",
    "version": 3
   },
   "file_extension": ".py",
   "mimetype": "text/x-python",
   "name": "python",
   "nbconvert_exporter": "python",
   "pygments_lexer": "ipython3",
   "version": "3.8.5"
  }
 },
 "nbformat": 4,
 "nbformat_minor": 1
}
